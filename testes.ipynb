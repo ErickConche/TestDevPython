{
 "cells": [
  {
   "cell_type": "code",
   "execution_count": 1,
   "id": "465469f9-75f6-4a45-8133-ebb78543a521",
   "metadata": {},
   "outputs": [
    {
     "data": {
      "text/html": [
       "<pre style=\"white-space:pre;overflow-x:auto;line-height:normal;font-family:Menlo,'DejaVu Sans Mono',consolas,'Courier New',monospace\">17:57:19.163 | <span style=\"color: #008080; text-decoration-color: #008080\">INFO</span>    | prefect.engine - Created flow run<span style=\"color: #800080; text-decoration-color: #800080\"> 'clay-coot'</span> for flow<span style=\"color: #800080; text-decoration-color: #800080; font-weight: bold\"> 'main'</span>\n",
       "</pre>\n"
      ],
      "text/plain": [
       "17:57:19.163 | \u001b[36mINFO\u001b[0m    | prefect.engine - Created flow run\u001b[35m 'clay-coot'\u001b[0m for flow\u001b[1;35m 'main'\u001b[0m\n"
      ]
     },
     "metadata": {},
     "output_type": "display_data"
    },
    {
     "data": {
      "text/html": [
       "<pre style=\"white-space:pre;overflow-x:auto;line-height:normal;font-family:Menlo,'DejaVu Sans Mono',consolas,'Courier New',monospace\">17:57:19.406 | <span style=\"color: #008080; text-decoration-color: #008080\">INFO</span>    | Flow run<span style=\"color: #800080; text-decoration-color: #800080\"> 'clay-coot'</span> - Created task run 'abrir_pagina_balanca_comercial-0' for task 'abrir_pagina_balanca_comercial'\n",
       "</pre>\n"
      ],
      "text/plain": [
       "17:57:19.406 | \u001b[36mINFO\u001b[0m    | Flow run\u001b[35m 'clay-coot'\u001b[0m - Created task run 'abrir_pagina_balanca_comercial-0' for task 'abrir_pagina_balanca_comercial'\n"
      ]
     },
     "metadata": {},
     "output_type": "display_data"
    },
    {
     "data": {
      "text/html": [
       "<pre style=\"white-space:pre;overflow-x:auto;line-height:normal;font-family:Menlo,'DejaVu Sans Mono',consolas,'Courier New',monospace\">17:57:19.409 | <span style=\"color: #008080; text-decoration-color: #008080\">INFO</span>    | Flow run<span style=\"color: #800080; text-decoration-color: #800080\"> 'clay-coot'</span> - Executing 'abrir_pagina_balanca_comercial-0' immediately...\n",
       "</pre>\n"
      ],
      "text/plain": [
       "17:57:19.409 | \u001b[36mINFO\u001b[0m    | Flow run\u001b[35m 'clay-coot'\u001b[0m - Executing 'abrir_pagina_balanca_comercial-0' immediately...\n"
      ]
     },
     "metadata": {},
     "output_type": "display_data"
    },
    {
     "data": {
      "text/html": [
       "<pre style=\"white-space:pre;overflow-x:auto;line-height:normal;font-family:Menlo,'DejaVu Sans Mono',consolas,'Courier New',monospace\">17:57:21.855 | <span style=\"color: #008080; text-decoration-color: #008080\">INFO</span>    | Task run 'abrir_pagina_balanca_comercial-0' - Navegando até <span style=\"color: #0000ff; text-decoration-color: #0000ff\">https://dadosabertos.bcb.gov.br/pages/temas#grp1762</span>\n",
       "</pre>\n"
      ],
      "text/plain": [
       "17:57:21.855 | \u001b[36mINFO\u001b[0m    | Task run 'abrir_pagina_balanca_comercial-0' - Navegando até \u001b[94mhttps://dadosabertos.bcb.gov.br/pages/temas#grp1762\u001b[0m\n"
      ]
     },
     "metadata": {},
     "output_type": "display_data"
    },
    {
     "data": {
      "text/html": [
       "<pre style=\"white-space:pre;overflow-x:auto;line-height:normal;font-family:Menlo,'DejaVu Sans Mono',consolas,'Courier New',monospace\">17:57:31.549 | <span style=\"color: #008080; text-decoration-color: #008080\">INFO</span>    | Task run 'abrir_pagina_balanca_comercial-0' - Finished in state <span style=\"color: #008000; text-decoration-color: #008000\">Completed</span>()\n",
       "</pre>\n"
      ],
      "text/plain": [
       "17:57:31.549 | \u001b[36mINFO\u001b[0m    | Task run 'abrir_pagina_balanca_comercial-0' - Finished in state \u001b[32mCompleted\u001b[0m()\n"
      ]
     },
     "metadata": {},
     "output_type": "display_data"
    },
    {
     "data": {
      "text/html": [
       "<pre style=\"white-space:pre;overflow-x:auto;line-height:normal;font-family:Menlo,'DejaVu Sans Mono',consolas,'Courier New',monospace\">17:57:32.186 | <span style=\"color: #008080; text-decoration-color: #008080\">INFO</span>    | Flow run<span style=\"color: #800080; text-decoration-color: #800080\"> 'clay-coot'</span> - Created subflow run<span style=\"color: #800080; text-decoration-color: #800080\"> 'fast-narwhal'</span> for flow<span style=\"color: #800080; text-decoration-color: #800080; font-weight: bold\"> 'buscar-url-csv'</span>\n",
       "</pre>\n"
      ],
      "text/plain": [
       "17:57:32.186 | \u001b[36mINFO\u001b[0m    | Flow run\u001b[35m 'clay-coot'\u001b[0m - Created subflow run\u001b[35m 'fast-narwhal'\u001b[0m for flow\u001b[1;35m 'buscar-url-csv'\u001b[0m\n"
      ]
     },
     "metadata": {},
     "output_type": "display_data"
    },
    {
     "data": {
      "text/html": [
       "<pre style=\"white-space:pre;overflow-x:auto;line-height:normal;font-family:Menlo,'DejaVu Sans Mono',consolas,'Courier New',monospace\">17:57:32.575 | <span style=\"color: #008080; text-decoration-color: #008080\">INFO</span>    | Flow run<span style=\"color: #800080; text-decoration-color: #800080\"> 'fast-narwhal'</span> - Created task run 'buscar_link_balanca_comercial-0' for task 'buscar_link_balanca_comercial'\n",
       "</pre>\n"
      ],
      "text/plain": [
       "17:57:32.575 | \u001b[36mINFO\u001b[0m    | Flow run\u001b[35m 'fast-narwhal'\u001b[0m - Created task run 'buscar_link_balanca_comercial-0' for task 'buscar_link_balanca_comercial'\n"
      ]
     },
     "metadata": {},
     "output_type": "display_data"
    },
    {
     "data": {
      "text/html": [
       "<pre style=\"white-space:pre;overflow-x:auto;line-height:normal;font-family:Menlo,'DejaVu Sans Mono',consolas,'Courier New',monospace\">17:57:32.585 | <span style=\"color: #008080; text-decoration-color: #008080\">INFO</span>    | Flow run<span style=\"color: #800080; text-decoration-color: #800080\"> 'fast-narwhal'</span> - Executing 'buscar_link_balanca_comercial-0' immediately...\n",
       "</pre>\n"
      ],
      "text/plain": [
       "17:57:32.585 | \u001b[36mINFO\u001b[0m    | Flow run\u001b[35m 'fast-narwhal'\u001b[0m - Executing 'buscar_link_balanca_comercial-0' immediately...\n"
      ]
     },
     "metadata": {},
     "output_type": "display_data"
    },
    {
     "data": {
      "text/html": [
       "<pre style=\"white-space:pre;overflow-x:auto;line-height:normal;font-family:Menlo,'DejaVu Sans Mono',consolas,'Courier New',monospace\">17:57:33.350 | <span style=\"color: #008080; text-decoration-color: #008080\">INFO</span>    | Task run 'buscar_link_balanca_comercial-0' - Finished in state <span style=\"color: #008000; text-decoration-color: #008000\">Completed</span>()\n",
       "</pre>\n"
      ],
      "text/plain": [
       "17:57:33.350 | \u001b[36mINFO\u001b[0m    | Task run 'buscar_link_balanca_comercial-0' - Finished in state \u001b[32mCompleted\u001b[0m()\n"
      ]
     },
     "metadata": {},
     "output_type": "display_data"
    },
    {
     "data": {
      "text/html": [
       "<pre style=\"white-space:pre;overflow-x:auto;line-height:normal;font-family:Menlo,'DejaVu Sans Mono',consolas,'Courier New',monospace\">17:57:37.452 | <span style=\"color: #008080; text-decoration-color: #008080\">INFO</span>    | Flow run<span style=\"color: #800080; text-decoration-color: #800080\"> 'fast-narwhal'</span> - Created task run 'retornar_pagina_para_csv-0' for task 'retornar_pagina_para_csv'\n",
       "</pre>\n"
      ],
      "text/plain": [
       "17:57:37.452 | \u001b[36mINFO\u001b[0m    | Flow run\u001b[35m 'fast-narwhal'\u001b[0m - Created task run 'retornar_pagina_para_csv-0' for task 'retornar_pagina_para_csv'\n"
      ]
     },
     "metadata": {},
     "output_type": "display_data"
    },
    {
     "data": {
      "text/html": [
       "<pre style=\"white-space:pre;overflow-x:auto;line-height:normal;font-family:Menlo,'DejaVu Sans Mono',consolas,'Courier New',monospace\">17:57:37.455 | <span style=\"color: #008080; text-decoration-color: #008080\">INFO</span>    | Flow run<span style=\"color: #800080; text-decoration-color: #800080\"> 'fast-narwhal'</span> - Executing 'retornar_pagina_para_csv-0' immediately...\n",
       "</pre>\n"
      ],
      "text/plain": [
       "17:57:37.455 | \u001b[36mINFO\u001b[0m    | Flow run\u001b[35m 'fast-narwhal'\u001b[0m - Executing 'retornar_pagina_para_csv-0' immediately...\n"
      ]
     },
     "metadata": {},
     "output_type": "display_data"
    },
    {
     "data": {
      "text/html": [
       "<pre style=\"white-space:pre;overflow-x:auto;line-height:normal;font-family:Menlo,'DejaVu Sans Mono',consolas,'Courier New',monospace\">17:57:37.850 | <span style=\"color: #008080; text-decoration-color: #008080\">INFO</span>    | Task run 'retornar_pagina_para_csv-0' - Finished in state <span style=\"color: #008000; text-decoration-color: #008000\">Completed</span>()\n",
       "</pre>\n"
      ],
      "text/plain": [
       "17:57:37.850 | \u001b[36mINFO\u001b[0m    | Task run 'retornar_pagina_para_csv-0' - Finished in state \u001b[32mCompleted\u001b[0m()\n"
      ]
     },
     "metadata": {},
     "output_type": "display_data"
    },
    {
     "data": {
      "text/html": [
       "<pre style=\"white-space:pre;overflow-x:auto;line-height:normal;font-family:Menlo,'DejaVu Sans Mono',consolas,'Courier New',monospace\">17:57:42.188 | <span style=\"color: #008080; text-decoration-color: #008080\">INFO</span>    | Flow run<span style=\"color: #800080; text-decoration-color: #800080\"> 'fast-narwhal'</span> - Created task run 'buscar_link_para_csv-0' for task 'buscar_link_para_csv'\n",
       "</pre>\n"
      ],
      "text/plain": [
       "17:57:42.188 | \u001b[36mINFO\u001b[0m    | Flow run\u001b[35m 'fast-narwhal'\u001b[0m - Created task run 'buscar_link_para_csv-0' for task 'buscar_link_para_csv'\n"
      ]
     },
     "metadata": {},
     "output_type": "display_data"
    },
    {
     "data": {
      "text/html": [
       "<pre style=\"white-space:pre;overflow-x:auto;line-height:normal;font-family:Menlo,'DejaVu Sans Mono',consolas,'Courier New',monospace\">17:57:42.191 | <span style=\"color: #008080; text-decoration-color: #008080\">INFO</span>    | Flow run<span style=\"color: #800080; text-decoration-color: #800080\"> 'fast-narwhal'</span> - Executing 'buscar_link_para_csv-0' immediately...\n",
       "</pre>\n"
      ],
      "text/plain": [
       "17:57:42.191 | \u001b[36mINFO\u001b[0m    | Flow run\u001b[35m 'fast-narwhal'\u001b[0m - Executing 'buscar_link_para_csv-0' immediately...\n"
      ]
     },
     "metadata": {},
     "output_type": "display_data"
    },
    {
     "data": {
      "text/html": [
       "<pre style=\"white-space:pre;overflow-x:auto;line-height:normal;font-family:Menlo,'DejaVu Sans Mono',consolas,'Courier New',monospace\">17:57:42.533 | <span style=\"color: #008080; text-decoration-color: #008080\">INFO</span>    | Task run 'buscar_link_para_csv-0' - Finished in state <span style=\"color: #008000; text-decoration-color: #008000\">Completed</span>()\n",
       "</pre>\n"
      ],
      "text/plain": [
       "17:57:42.533 | \u001b[36mINFO\u001b[0m    | Task run 'buscar_link_para_csv-0' - Finished in state \u001b[32mCompleted\u001b[0m()\n"
      ]
     },
     "metadata": {},
     "output_type": "display_data"
    },
    {
     "data": {
      "text/html": [
       "<pre style=\"white-space:pre;overflow-x:auto;line-height:normal;font-family:Menlo,'DejaVu Sans Mono',consolas,'Courier New',monospace\">17:57:42.538 | <span style=\"color: #008080; text-decoration-color: #008080\">INFO</span>    | Flow run<span style=\"color: #800080; text-decoration-color: #800080\"> 'fast-narwhal'</span> - Novo link para palavra chave saldo: <span style=\"color: #0000ff; text-decoration-color: #0000ff\">https://api.bcb.gov.br/dados/serie/bcdata.sgs.22704/dados?formato=csv</span>\n",
       "</pre>\n"
      ],
      "text/plain": [
       "17:57:42.538 | \u001b[36mINFO\u001b[0m    | Flow run\u001b[35m 'fast-narwhal'\u001b[0m - Novo link para palavra chave saldo: \u001b[94mhttps://api.bcb.gov.br/dados/serie/bcdata.sgs.22704/dados?formato=csv\u001b[0m\n"
      ]
     },
     "metadata": {},
     "output_type": "display_data"
    },
    {
     "data": {
      "text/html": [
       "<pre style=\"white-space:pre;overflow-x:auto;line-height:normal;font-family:Menlo,'DejaVu Sans Mono',consolas,'Courier New',monospace\">17:57:42.676 | <span style=\"color: #008080; text-decoration-color: #008080\">INFO</span>    | Flow run<span style=\"color: #800080; text-decoration-color: #800080\"> 'fast-narwhal'</span> - Finished in state <span style=\"color: #008000; text-decoration-color: #008000\">Completed</span>()\n",
       "</pre>\n"
      ],
      "text/plain": [
       "17:57:42.676 | \u001b[36mINFO\u001b[0m    | Flow run\u001b[35m 'fast-narwhal'\u001b[0m - Finished in state \u001b[32mCompleted\u001b[0m()\n"
      ]
     },
     "metadata": {},
     "output_type": "display_data"
    },
    {
     "data": {
      "text/html": [
       "<pre style=\"white-space:pre;overflow-x:auto;line-height:normal;font-family:Menlo,'DejaVu Sans Mono',consolas,'Courier New',monospace\">17:57:43.800 | <span style=\"color: #008080; text-decoration-color: #008080\">INFO</span>    | Flow run<span style=\"color: #800080; text-decoration-color: #800080\"> 'clay-coot'</span> - Created subflow run<span style=\"color: #800080; text-decoration-color: #800080\"> 'outgoing-axolotl'</span> for flow<span style=\"color: #800080; text-decoration-color: #800080; font-weight: bold\"> 'buscar-url-csv'</span>\n",
       "</pre>\n"
      ],
      "text/plain": [
       "17:57:43.800 | \u001b[36mINFO\u001b[0m    | Flow run\u001b[35m 'clay-coot'\u001b[0m - Created subflow run\u001b[35m 'outgoing-axolotl'\u001b[0m for flow\u001b[1;35m 'buscar-url-csv'\u001b[0m\n"
      ]
     },
     "metadata": {},
     "output_type": "display_data"
    },
    {
     "data": {
      "text/html": [
       "<pre style=\"white-space:pre;overflow-x:auto;line-height:normal;font-family:Menlo,'DejaVu Sans Mono',consolas,'Courier New',monospace\">17:57:44.016 | <span style=\"color: #008080; text-decoration-color: #008080\">INFO</span>    | Flow run<span style=\"color: #800080; text-decoration-color: #800080\"> 'outgoing-axolotl'</span> - Created task run 'buscar_link_balanca_comercial-0' for task 'buscar_link_balanca_comercial'\n",
       "</pre>\n"
      ],
      "text/plain": [
       "17:57:44.016 | \u001b[36mINFO\u001b[0m    | Flow run\u001b[35m 'outgoing-axolotl'\u001b[0m - Created task run 'buscar_link_balanca_comercial-0' for task 'buscar_link_balanca_comercial'\n"
      ]
     },
     "metadata": {},
     "output_type": "display_data"
    },
    {
     "data": {
      "text/html": [
       "<pre style=\"white-space:pre;overflow-x:auto;line-height:normal;font-family:Menlo,'DejaVu Sans Mono',consolas,'Courier New',monospace\">17:57:44.019 | <span style=\"color: #008080; text-decoration-color: #008080\">INFO</span>    | Flow run<span style=\"color: #800080; text-decoration-color: #800080\"> 'outgoing-axolotl'</span> - Executing 'buscar_link_balanca_comercial-0' immediately...\n",
       "</pre>\n"
      ],
      "text/plain": [
       "17:57:44.019 | \u001b[36mINFO\u001b[0m    | Flow run\u001b[35m 'outgoing-axolotl'\u001b[0m - Executing 'buscar_link_balanca_comercial-0' immediately...\n"
      ]
     },
     "metadata": {},
     "output_type": "display_data"
    },
    {
     "data": {
      "text/html": [
       "<pre style=\"white-space:pre;overflow-x:auto;line-height:normal;font-family:Menlo,'DejaVu Sans Mono',consolas,'Courier New',monospace\">17:57:44.281 | <span style=\"color: #008080; text-decoration-color: #008080\">INFO</span>    | Task run 'buscar_link_balanca_comercial-0' - Finished in state <span style=\"color: #008000; text-decoration-color: #008000\">Completed</span>()\n",
       "</pre>\n"
      ],
      "text/plain": [
       "17:57:44.281 | \u001b[36mINFO\u001b[0m    | Task run 'buscar_link_balanca_comercial-0' - Finished in state \u001b[32mCompleted\u001b[0m()\n"
      ]
     },
     "metadata": {},
     "output_type": "display_data"
    },
    {
     "data": {
      "text/html": [
       "<pre style=\"white-space:pre;overflow-x:auto;line-height:normal;font-family:Menlo,'DejaVu Sans Mono',consolas,'Courier New',monospace\">17:57:47.634 | <span style=\"color: #008080; text-decoration-color: #008080\">INFO</span>    | Flow run<span style=\"color: #800080; text-decoration-color: #800080\"> 'outgoing-axolotl'</span> - Created task run 'retornar_pagina_para_csv-0' for task 'retornar_pagina_para_csv'\n",
       "</pre>\n"
      ],
      "text/plain": [
       "17:57:47.634 | \u001b[36mINFO\u001b[0m    | Flow run\u001b[35m 'outgoing-axolotl'\u001b[0m - Created task run 'retornar_pagina_para_csv-0' for task 'retornar_pagina_para_csv'\n"
      ]
     },
     "metadata": {},
     "output_type": "display_data"
    },
    {
     "data": {
      "text/html": [
       "<pre style=\"white-space:pre;overflow-x:auto;line-height:normal;font-family:Menlo,'DejaVu Sans Mono',consolas,'Courier New',monospace\">17:57:47.637 | <span style=\"color: #008080; text-decoration-color: #008080\">INFO</span>    | Flow run<span style=\"color: #800080; text-decoration-color: #800080\"> 'outgoing-axolotl'</span> - Executing 'retornar_pagina_para_csv-0' immediately...\n",
       "</pre>\n"
      ],
      "text/plain": [
       "17:57:47.637 | \u001b[36mINFO\u001b[0m    | Flow run\u001b[35m 'outgoing-axolotl'\u001b[0m - Executing 'retornar_pagina_para_csv-0' immediately...\n"
      ]
     },
     "metadata": {},
     "output_type": "display_data"
    },
    {
     "data": {
      "text/html": [
       "<pre style=\"white-space:pre;overflow-x:auto;line-height:normal;font-family:Menlo,'DejaVu Sans Mono',consolas,'Courier New',monospace\">17:57:47.820 | <span style=\"color: #008080; text-decoration-color: #008080\">INFO</span>    | Task run 'retornar_pagina_para_csv-0' - Finished in state <span style=\"color: #008000; text-decoration-color: #008000\">Completed</span>()\n",
       "</pre>\n"
      ],
      "text/plain": [
       "17:57:47.820 | \u001b[36mINFO\u001b[0m    | Task run 'retornar_pagina_para_csv-0' - Finished in state \u001b[32mCompleted\u001b[0m()\n"
      ]
     },
     "metadata": {},
     "output_type": "display_data"
    },
    {
     "data": {
      "text/html": [
       "<pre style=\"white-space:pre;overflow-x:auto;line-height:normal;font-family:Menlo,'DejaVu Sans Mono',consolas,'Courier New',monospace\">17:57:48.529 | <span style=\"color: #008080; text-decoration-color: #008080\">INFO</span>    | Flow run<span style=\"color: #800080; text-decoration-color: #800080\"> 'outgoing-axolotl'</span> - Created task run 'buscar_link_para_csv-0' for task 'buscar_link_para_csv'\n",
       "</pre>\n"
      ],
      "text/plain": [
       "17:57:48.529 | \u001b[36mINFO\u001b[0m    | Flow run\u001b[35m 'outgoing-axolotl'\u001b[0m - Created task run 'buscar_link_para_csv-0' for task 'buscar_link_para_csv'\n"
      ]
     },
     "metadata": {},
     "output_type": "display_data"
    },
    {
     "data": {
      "text/html": [
       "<pre style=\"white-space:pre;overflow-x:auto;line-height:normal;font-family:Menlo,'DejaVu Sans Mono',consolas,'Courier New',monospace\">17:57:48.532 | <span style=\"color: #008080; text-decoration-color: #008080\">INFO</span>    | Flow run<span style=\"color: #800080; text-decoration-color: #800080\"> 'outgoing-axolotl'</span> - Executing 'buscar_link_para_csv-0' immediately...\n",
       "</pre>\n"
      ],
      "text/plain": [
       "17:57:48.532 | \u001b[36mINFO\u001b[0m    | Flow run\u001b[35m 'outgoing-axolotl'\u001b[0m - Executing 'buscar_link_para_csv-0' immediately...\n"
      ]
     },
     "metadata": {},
     "output_type": "display_data"
    },
    {
     "data": {
      "text/html": [
       "<pre style=\"white-space:pre;overflow-x:auto;line-height:normal;font-family:Menlo,'DejaVu Sans Mono',consolas,'Courier New',monospace\">17:57:48.831 | <span style=\"color: #008080; text-decoration-color: #008080\">INFO</span>    | Task run 'buscar_link_para_csv-0' - Finished in state <span style=\"color: #008000; text-decoration-color: #008000\">Completed</span>()\n",
       "</pre>\n"
      ],
      "text/plain": [
       "17:57:48.831 | \u001b[36mINFO\u001b[0m    | Task run 'buscar_link_para_csv-0' - Finished in state \u001b[32mCompleted\u001b[0m()\n"
      ]
     },
     "metadata": {},
     "output_type": "display_data"
    },
    {
     "data": {
      "text/html": [
       "<pre style=\"white-space:pre;overflow-x:auto;line-height:normal;font-family:Menlo,'DejaVu Sans Mono',consolas,'Courier New',monospace\">17:57:48.834 | <span style=\"color: #008080; text-decoration-color: #008080\">INFO</span>    | Flow run<span style=\"color: #800080; text-decoration-color: #800080\"> 'outgoing-axolotl'</span> - Novo link para palavra chave receita: <span style=\"color: #0000ff; text-decoration-color: #0000ff\">https://api.bcb.gov.br/dados/serie/bcdata.sgs.22705/dados?formato=csv</span>\n",
       "</pre>\n"
      ],
      "text/plain": [
       "17:57:48.834 | \u001b[36mINFO\u001b[0m    | Flow run\u001b[35m 'outgoing-axolotl'\u001b[0m - Novo link para palavra chave receita: \u001b[94mhttps://api.bcb.gov.br/dados/serie/bcdata.sgs.22705/dados?formato=csv\u001b[0m\n"
      ]
     },
     "metadata": {},
     "output_type": "display_data"
    },
    {
     "data": {
      "text/html": [
       "<pre style=\"white-space:pre;overflow-x:auto;line-height:normal;font-family:Menlo,'DejaVu Sans Mono',consolas,'Courier New',monospace\">17:57:48.936 | <span style=\"color: #008080; text-decoration-color: #008080\">INFO</span>    | Flow run<span style=\"color: #800080; text-decoration-color: #800080\"> 'outgoing-axolotl'</span> - Finished in state <span style=\"color: #008000; text-decoration-color: #008000\">Completed</span>()\n",
       "</pre>\n"
      ],
      "text/plain": [
       "17:57:48.936 | \u001b[36mINFO\u001b[0m    | Flow run\u001b[35m 'outgoing-axolotl'\u001b[0m - Finished in state \u001b[32mCompleted\u001b[0m()\n"
      ]
     },
     "metadata": {},
     "output_type": "display_data"
    },
    {
     "data": {
      "text/html": [
       "<pre style=\"white-space:pre;overflow-x:auto;line-height:normal;font-family:Menlo,'DejaVu Sans Mono',consolas,'Courier New',monospace\">17:57:49.942 | <span style=\"color: #008080; text-decoration-color: #008080\">INFO</span>    | Flow run<span style=\"color: #800080; text-decoration-color: #800080\"> 'clay-coot'</span> - Created subflow run<span style=\"color: #800080; text-decoration-color: #800080\"> 'taupe-hornet'</span> for flow<span style=\"color: #800080; text-decoration-color: #800080; font-weight: bold\"> 'buscar-url-csv'</span>\n",
       "</pre>\n"
      ],
      "text/plain": [
       "17:57:49.942 | \u001b[36mINFO\u001b[0m    | Flow run\u001b[35m 'clay-coot'\u001b[0m - Created subflow run\u001b[35m 'taupe-hornet'\u001b[0m for flow\u001b[1;35m 'buscar-url-csv'\u001b[0m\n"
      ]
     },
     "metadata": {},
     "output_type": "display_data"
    },
    {
     "data": {
      "text/html": [
       "<pre style=\"white-space:pre;overflow-x:auto;line-height:normal;font-family:Menlo,'DejaVu Sans Mono',consolas,'Courier New',monospace\">17:57:50.196 | <span style=\"color: #008080; text-decoration-color: #008080\">INFO</span>    | Flow run<span style=\"color: #800080; text-decoration-color: #800080\"> 'taupe-hornet'</span> - Created task run 'buscar_link_balanca_comercial-0' for task 'buscar_link_balanca_comercial'\n",
       "</pre>\n"
      ],
      "text/plain": [
       "17:57:50.196 | \u001b[36mINFO\u001b[0m    | Flow run\u001b[35m 'taupe-hornet'\u001b[0m - Created task run 'buscar_link_balanca_comercial-0' for task 'buscar_link_balanca_comercial'\n"
      ]
     },
     "metadata": {},
     "output_type": "display_data"
    },
    {
     "data": {
      "text/html": [
       "<pre style=\"white-space:pre;overflow-x:auto;line-height:normal;font-family:Menlo,'DejaVu Sans Mono',consolas,'Courier New',monospace\">17:57:50.200 | <span style=\"color: #008080; text-decoration-color: #008080\">INFO</span>    | Flow run<span style=\"color: #800080; text-decoration-color: #800080\"> 'taupe-hornet'</span> - Executing 'buscar_link_balanca_comercial-0' immediately...\n",
       "</pre>\n"
      ],
      "text/plain": [
       "17:57:50.200 | \u001b[36mINFO\u001b[0m    | Flow run\u001b[35m 'taupe-hornet'\u001b[0m - Executing 'buscar_link_balanca_comercial-0' immediately...\n"
      ]
     },
     "metadata": {},
     "output_type": "display_data"
    },
    {
     "data": {
      "text/html": [
       "<pre style=\"white-space:pre;overflow-x:auto;line-height:normal;font-family:Menlo,'DejaVu Sans Mono',consolas,'Courier New',monospace\">17:57:50.487 | <span style=\"color: #008080; text-decoration-color: #008080\">INFO</span>    | Task run 'buscar_link_balanca_comercial-0' - Finished in state <span style=\"color: #008000; text-decoration-color: #008000\">Completed</span>()\n",
       "</pre>\n"
      ],
      "text/plain": [
       "17:57:50.487 | \u001b[36mINFO\u001b[0m    | Task run 'buscar_link_balanca_comercial-0' - Finished in state \u001b[32mCompleted\u001b[0m()\n"
      ]
     },
     "metadata": {},
     "output_type": "display_data"
    },
    {
     "data": {
      "text/html": [
       "<pre style=\"white-space:pre;overflow-x:auto;line-height:normal;font-family:Menlo,'DejaVu Sans Mono',consolas,'Courier New',monospace\">17:57:53.490 | <span style=\"color: #008080; text-decoration-color: #008080\">INFO</span>    | Flow run<span style=\"color: #800080; text-decoration-color: #800080\"> 'taupe-hornet'</span> - Created task run 'retornar_pagina_para_csv-0' for task 'retornar_pagina_para_csv'\n",
       "</pre>\n"
      ],
      "text/plain": [
       "17:57:53.490 | \u001b[36mINFO\u001b[0m    | Flow run\u001b[35m 'taupe-hornet'\u001b[0m - Created task run 'retornar_pagina_para_csv-0' for task 'retornar_pagina_para_csv'\n"
      ]
     },
     "metadata": {},
     "output_type": "display_data"
    },
    {
     "data": {
      "text/html": [
       "<pre style=\"white-space:pre;overflow-x:auto;line-height:normal;font-family:Menlo,'DejaVu Sans Mono',consolas,'Courier New',monospace\">17:57:53.492 | <span style=\"color: #008080; text-decoration-color: #008080\">INFO</span>    | Flow run<span style=\"color: #800080; text-decoration-color: #800080\"> 'taupe-hornet'</span> - Executing 'retornar_pagina_para_csv-0' immediately...\n",
       "</pre>\n"
      ],
      "text/plain": [
       "17:57:53.492 | \u001b[36mINFO\u001b[0m    | Flow run\u001b[35m 'taupe-hornet'\u001b[0m - Executing 'retornar_pagina_para_csv-0' immediately...\n"
      ]
     },
     "metadata": {},
     "output_type": "display_data"
    },
    {
     "data": {
      "text/html": [
       "<pre style=\"white-space:pre;overflow-x:auto;line-height:normal;font-family:Menlo,'DejaVu Sans Mono',consolas,'Courier New',monospace\">17:57:53.683 | <span style=\"color: #008080; text-decoration-color: #008080\">INFO</span>    | Task run 'retornar_pagina_para_csv-0' - Finished in state <span style=\"color: #008000; text-decoration-color: #008000\">Completed</span>()\n",
       "</pre>\n"
      ],
      "text/plain": [
       "17:57:53.683 | \u001b[36mINFO\u001b[0m    | Task run 'retornar_pagina_para_csv-0' - Finished in state \u001b[32mCompleted\u001b[0m()\n"
      ]
     },
     "metadata": {},
     "output_type": "display_data"
    },
    {
     "data": {
      "text/html": [
       "<pre style=\"white-space:pre;overflow-x:auto;line-height:normal;font-family:Menlo,'DejaVu Sans Mono',consolas,'Courier New',monospace\">17:57:54.313 | <span style=\"color: #008080; text-decoration-color: #008080\">INFO</span>    | Flow run<span style=\"color: #800080; text-decoration-color: #800080\"> 'taupe-hornet'</span> - Created task run 'buscar_link_para_csv-0' for task 'buscar_link_para_csv'\n",
       "</pre>\n"
      ],
      "text/plain": [
       "17:57:54.313 | \u001b[36mINFO\u001b[0m    | Flow run\u001b[35m 'taupe-hornet'\u001b[0m - Created task run 'buscar_link_para_csv-0' for task 'buscar_link_para_csv'\n"
      ]
     },
     "metadata": {},
     "output_type": "display_data"
    },
    {
     "data": {
      "text/html": [
       "<pre style=\"white-space:pre;overflow-x:auto;line-height:normal;font-family:Menlo,'DejaVu Sans Mono',consolas,'Courier New',monospace\">17:57:54.316 | <span style=\"color: #008080; text-decoration-color: #008080\">INFO</span>    | Flow run<span style=\"color: #800080; text-decoration-color: #800080\"> 'taupe-hornet'</span> - Executing 'buscar_link_para_csv-0' immediately...\n",
       "</pre>\n"
      ],
      "text/plain": [
       "17:57:54.316 | \u001b[36mINFO\u001b[0m    | Flow run\u001b[35m 'taupe-hornet'\u001b[0m - Executing 'buscar_link_para_csv-0' immediately...\n"
      ]
     },
     "metadata": {},
     "output_type": "display_data"
    },
    {
     "data": {
      "text/html": [
       "<pre style=\"white-space:pre;overflow-x:auto;line-height:normal;font-family:Menlo,'DejaVu Sans Mono',consolas,'Courier New',monospace\">17:57:54.518 | <span style=\"color: #008080; text-decoration-color: #008080\">INFO</span>    | Task run 'buscar_link_para_csv-0' - Finished in state <span style=\"color: #008000; text-decoration-color: #008000\">Completed</span>()\n",
       "</pre>\n"
      ],
      "text/plain": [
       "17:57:54.518 | \u001b[36mINFO\u001b[0m    | Task run 'buscar_link_para_csv-0' - Finished in state \u001b[32mCompleted\u001b[0m()\n"
      ]
     },
     "metadata": {},
     "output_type": "display_data"
    },
    {
     "data": {
      "text/html": [
       "<pre style=\"white-space:pre;overflow-x:auto;line-height:normal;font-family:Menlo,'DejaVu Sans Mono',consolas,'Courier New',monospace\">17:57:54.521 | <span style=\"color: #008080; text-decoration-color: #008080\">INFO</span>    | Flow run<span style=\"color: #800080; text-decoration-color: #800080\"> 'taupe-hornet'</span> - Novo link para palavra chave despesa: <span style=\"color: #0000ff; text-decoration-color: #0000ff\">https://api.bcb.gov.br/dados/serie/bcdata.sgs.22706/dados?formato=csv</span>\n",
       "</pre>\n"
      ],
      "text/plain": [
       "17:57:54.521 | \u001b[36mINFO\u001b[0m    | Flow run\u001b[35m 'taupe-hornet'\u001b[0m - Novo link para palavra chave despesa: \u001b[94mhttps://api.bcb.gov.br/dados/serie/bcdata.sgs.22706/dados?formato=csv\u001b[0m\n"
      ]
     },
     "metadata": {},
     "output_type": "display_data"
    },
    {
     "data": {
      "text/html": [
       "<pre style=\"white-space:pre;overflow-x:auto;line-height:normal;font-family:Menlo,'DejaVu Sans Mono',consolas,'Courier New',monospace\">17:57:54.633 | <span style=\"color: #008080; text-decoration-color: #008080\">INFO</span>    | Flow run<span style=\"color: #800080; text-decoration-color: #800080\"> 'taupe-hornet'</span> - Finished in state <span style=\"color: #008000; text-decoration-color: #008000\">Completed</span>()\n",
       "</pre>\n"
      ],
      "text/plain": [
       "17:57:54.633 | \u001b[36mINFO\u001b[0m    | Flow run\u001b[35m 'taupe-hornet'\u001b[0m - Finished in state \u001b[32mCompleted\u001b[0m()\n"
      ]
     },
     "metadata": {},
     "output_type": "display_data"
    },
    {
     "data": {
      "text/html": [
       "<pre style=\"white-space:pre;overflow-x:auto;line-height:normal;font-family:Menlo,'DejaVu Sans Mono',consolas,'Courier New',monospace\">17:57:54.924 | <span style=\"color: #008080; text-decoration-color: #008080\">INFO</span>    | Flow run<span style=\"color: #800080; text-decoration-color: #800080\"> 'clay-coot'</span> - Created subflow run<span style=\"color: #800080; text-decoration-color: #800080\"> 'grumpy-skink'</span> for flow<span style=\"color: #800080; text-decoration-color: #800080; font-weight: bold\"> 'persistir-dados'</span>\n",
       "</pre>\n"
      ],
      "text/plain": [
       "17:57:54.924 | \u001b[36mINFO\u001b[0m    | Flow run\u001b[35m 'clay-coot'\u001b[0m - Created subflow run\u001b[35m 'grumpy-skink'\u001b[0m for flow\u001b[1;35m 'persistir-dados'\u001b[0m\n"
      ]
     },
     "metadata": {},
     "output_type": "display_data"
    },
    {
     "data": {
      "text/html": [
       "<pre style=\"white-space:pre;overflow-x:auto;line-height:normal;font-family:Menlo,'DejaVu Sans Mono',consolas,'Courier New',monospace\">17:57:55.162 | <span style=\"color: #008080; text-decoration-color: #008080\">INFO</span>    | Flow run<span style=\"color: #800080; text-decoration-color: #800080\"> 'grumpy-skink'</span> - Created task run 'analisar_link_csv-0' for task 'analisar_link_csv'\n",
       "</pre>\n"
      ],
      "text/plain": [
       "17:57:55.162 | \u001b[36mINFO\u001b[0m    | Flow run\u001b[35m 'grumpy-skink'\u001b[0m - Created task run 'analisar_link_csv-0' for task 'analisar_link_csv'\n"
      ]
     },
     "metadata": {},
     "output_type": "display_data"
    },
    {
     "data": {
      "text/html": [
       "<pre style=\"white-space:pre;overflow-x:auto;line-height:normal;font-family:Menlo,'DejaVu Sans Mono',consolas,'Courier New',monospace\">17:57:55.165 | <span style=\"color: #008080; text-decoration-color: #008080\">INFO</span>    | Flow run<span style=\"color: #800080; text-decoration-color: #800080\"> 'grumpy-skink'</span> - Executing 'analisar_link_csv-0' immediately...\n",
       "</pre>\n"
      ],
      "text/plain": [
       "17:57:55.165 | \u001b[36mINFO\u001b[0m    | Flow run\u001b[35m 'grumpy-skink'\u001b[0m - Executing 'analisar_link_csv-0' immediately...\n"
      ]
     },
     "metadata": {},
     "output_type": "display_data"
    },
    {
     "data": {
      "text/html": [
       "<pre style=\"white-space:pre;overflow-x:auto;line-height:normal;font-family:Menlo,'DejaVu Sans Mono',consolas,'Courier New',monospace\">17:57:55.914 | <span style=\"color: #008080; text-decoration-color: #008080\">INFO</span>    | Task run 'analisar_link_csv-0' - Tabela saldo baixada do link <span style=\"color: #0000ff; text-decoration-color: #0000ff\">https://api.bcb.gov.br/dados/serie/bcdata.sgs.22704/dados?formato=csv</span>\n",
       "</pre>\n"
      ],
      "text/plain": [
       "17:57:55.914 | \u001b[36mINFO\u001b[0m    | Task run 'analisar_link_csv-0' - Tabela saldo baixada do link \u001b[94mhttps://api.bcb.gov.br/dados/serie/bcdata.sgs.22704/dados?formato=csv\u001b[0m\n"
      ]
     },
     "metadata": {},
     "output_type": "display_data"
    },
    {
     "data": {
      "text/html": [
       "<pre style=\"white-space:pre;overflow-x:auto;line-height:normal;font-family:Menlo,'DejaVu Sans Mono',consolas,'Courier New',monospace\">17:57:56.035 | <span style=\"color: #008080; text-decoration-color: #008080\">INFO</span>    | Task run 'analisar_link_csv-0' - Finished in state <span style=\"color: #008000; text-decoration-color: #008000\">Completed</span>()\n",
       "</pre>\n"
      ],
      "text/plain": [
       "17:57:56.035 | \u001b[36mINFO\u001b[0m    | Task run 'analisar_link_csv-0' - Finished in state \u001b[32mCompleted\u001b[0m()\n"
      ]
     },
     "metadata": {},
     "output_type": "display_data"
    },
    {
     "data": {
      "text/html": [
       "<pre style=\"white-space:pre;overflow-x:auto;line-height:normal;font-family:Menlo,'DejaVu Sans Mono',consolas,'Courier New',monospace\">17:57:56.219 | <span style=\"color: #008080; text-decoration-color: #008080\">INFO</span>    | Flow run<span style=\"color: #800080; text-decoration-color: #800080\"> 'grumpy-skink'</span> - Created task run 'converter_tipos-0' for task 'converter_tipos'\n",
       "</pre>\n"
      ],
      "text/plain": [
       "17:57:56.219 | \u001b[36mINFO\u001b[0m    | Flow run\u001b[35m 'grumpy-skink'\u001b[0m - Created task run 'converter_tipos-0' for task 'converter_tipos'\n"
      ]
     },
     "metadata": {},
     "output_type": "display_data"
    },
    {
     "data": {
      "text/html": [
       "<pre style=\"white-space:pre;overflow-x:auto;line-height:normal;font-family:Menlo,'DejaVu Sans Mono',consolas,'Courier New',monospace\">17:57:56.222 | <span style=\"color: #008080; text-decoration-color: #008080\">INFO</span>    | Flow run<span style=\"color: #800080; text-decoration-color: #800080\"> 'grumpy-skink'</span> - Executing 'converter_tipos-0' immediately...\n",
       "</pre>\n"
      ],
      "text/plain": [
       "17:57:56.222 | \u001b[36mINFO\u001b[0m    | Flow run\u001b[35m 'grumpy-skink'\u001b[0m - Executing 'converter_tipos-0' immediately...\n"
      ]
     },
     "metadata": {},
     "output_type": "display_data"
    },
    {
     "data": {
      "text/html": [
       "<pre style=\"white-space:pre;overflow-x:auto;line-height:normal;font-family:Menlo,'DejaVu Sans Mono',consolas,'Courier New',monospace\">17:57:56.399 | <span style=\"color: #008080; text-decoration-color: #008080\">INFO</span>    | Task run 'converter_tipos-0' - Finished in state <span style=\"color: #008000; text-decoration-color: #008000\">Completed</span>()\n",
       "</pre>\n"
      ],
      "text/plain": [
       "17:57:56.399 | \u001b[36mINFO\u001b[0m    | Task run 'converter_tipos-0' - Finished in state \u001b[32mCompleted\u001b[0m()\n"
      ]
     },
     "metadata": {},
     "output_type": "display_data"
    },
    {
     "data": {
      "text/html": [
       "<pre style=\"white-space:pre;overflow-x:auto;line-height:normal;font-family:Menlo,'DejaVu Sans Mono',consolas,'Courier New',monospace\">17:57:56.403 | <span style=\"color: #008080; text-decoration-color: #008080\">INFO</span>    | Flow run<span style=\"color: #800080; text-decoration-color: #800080\"> 'grumpy-skink'</span> - Persistindo dados da tabela saldo\n",
       "</pre>\n"
      ],
      "text/plain": [
       "17:57:56.403 | \u001b[36mINFO\u001b[0m    | Flow run\u001b[35m 'grumpy-skink'\u001b[0m - Persistindo dados da tabela saldo\n"
      ]
     },
     "metadata": {},
     "output_type": "display_data"
    },
    {
     "data": {
      "text/html": [
       "<pre style=\"white-space:pre;overflow-x:auto;line-height:normal;font-family:Menlo,'DejaVu Sans Mono',consolas,'Courier New',monospace\">17:57:56.602 | <span style=\"color: #008080; text-decoration-color: #008080\">INFO</span>    | Flow run<span style=\"color: #800080; text-decoration-color: #800080\"> 'grumpy-skink'</span> - Created task run 'analisar_link_csv-1' for task 'analisar_link_csv'\n",
       "</pre>\n"
      ],
      "text/plain": [
       "17:57:56.602 | \u001b[36mINFO\u001b[0m    | Flow run\u001b[35m 'grumpy-skink'\u001b[0m - Created task run 'analisar_link_csv-1' for task 'analisar_link_csv'\n"
      ]
     },
     "metadata": {},
     "output_type": "display_data"
    },
    {
     "data": {
      "text/html": [
       "<pre style=\"white-space:pre;overflow-x:auto;line-height:normal;font-family:Menlo,'DejaVu Sans Mono',consolas,'Courier New',monospace\">17:57:56.604 | <span style=\"color: #008080; text-decoration-color: #008080\">INFO</span>    | Flow run<span style=\"color: #800080; text-decoration-color: #800080\"> 'grumpy-skink'</span> - Executing 'analisar_link_csv-1' immediately...\n",
       "</pre>\n"
      ],
      "text/plain": [
       "17:57:56.604 | \u001b[36mINFO\u001b[0m    | Flow run\u001b[35m 'grumpy-skink'\u001b[0m - Executing 'analisar_link_csv-1' immediately...\n"
      ]
     },
     "metadata": {},
     "output_type": "display_data"
    },
    {
     "data": {
      "text/html": [
       "<pre style=\"white-space:pre;overflow-x:auto;line-height:normal;font-family:Menlo,'DejaVu Sans Mono',consolas,'Courier New',monospace\">17:57:57.214 | <span style=\"color: #008080; text-decoration-color: #008080\">INFO</span>    | Task run 'analisar_link_csv-1' - Tabela receita baixada do link <span style=\"color: #0000ff; text-decoration-color: #0000ff\">https://api.bcb.gov.br/dados/serie/bcdata.sgs.22705/dados?formato=csv</span>\n",
       "</pre>\n"
      ],
      "text/plain": [
       "17:57:57.214 | \u001b[36mINFO\u001b[0m    | Task run 'analisar_link_csv-1' - Tabela receita baixada do link \u001b[94mhttps://api.bcb.gov.br/dados/serie/bcdata.sgs.22705/dados?formato=csv\u001b[0m\n"
      ]
     },
     "metadata": {},
     "output_type": "display_data"
    },
    {
     "data": {
      "text/html": [
       "<pre style=\"white-space:pre;overflow-x:auto;line-height:normal;font-family:Menlo,'DejaVu Sans Mono',consolas,'Courier New',monospace\">17:57:57.395 | <span style=\"color: #008080; text-decoration-color: #008080\">INFO</span>    | Task run 'analisar_link_csv-1' - Finished in state <span style=\"color: #008000; text-decoration-color: #008000\">Completed</span>()\n",
       "</pre>\n"
      ],
      "text/plain": [
       "17:57:57.395 | \u001b[36mINFO\u001b[0m    | Task run 'analisar_link_csv-1' - Finished in state \u001b[32mCompleted\u001b[0m()\n"
      ]
     },
     "metadata": {},
     "output_type": "display_data"
    },
    {
     "data": {
      "text/html": [
       "<pre style=\"white-space:pre;overflow-x:auto;line-height:normal;font-family:Menlo,'DejaVu Sans Mono',consolas,'Courier New',monospace\">17:57:57.467 | <span style=\"color: #008080; text-decoration-color: #008080\">INFO</span>    | Flow run<span style=\"color: #800080; text-decoration-color: #800080\"> 'grumpy-skink'</span> - Created task run 'converter_tipos-1' for task 'converter_tipos'\n",
       "</pre>\n"
      ],
      "text/plain": [
       "17:57:57.467 | \u001b[36mINFO\u001b[0m    | Flow run\u001b[35m 'grumpy-skink'\u001b[0m - Created task run 'converter_tipos-1' for task 'converter_tipos'\n"
      ]
     },
     "metadata": {},
     "output_type": "display_data"
    },
    {
     "data": {
      "text/html": [
       "<pre style=\"white-space:pre;overflow-x:auto;line-height:normal;font-family:Menlo,'DejaVu Sans Mono',consolas,'Courier New',monospace\">17:57:57.470 | <span style=\"color: #008080; text-decoration-color: #008080\">INFO</span>    | Flow run<span style=\"color: #800080; text-decoration-color: #800080\"> 'grumpy-skink'</span> - Executing 'converter_tipos-1' immediately...\n",
       "</pre>\n"
      ],
      "text/plain": [
       "17:57:57.470 | \u001b[36mINFO\u001b[0m    | Flow run\u001b[35m 'grumpy-skink'\u001b[0m - Executing 'converter_tipos-1' immediately...\n"
      ]
     },
     "metadata": {},
     "output_type": "display_data"
    },
    {
     "data": {
      "text/html": [
       "<pre style=\"white-space:pre;overflow-x:auto;line-height:normal;font-family:Menlo,'DejaVu Sans Mono',consolas,'Courier New',monospace\">17:57:57.710 | <span style=\"color: #008080; text-decoration-color: #008080\">INFO</span>    | Task run 'converter_tipos-1' - Finished in state <span style=\"color: #008000; text-decoration-color: #008000\">Completed</span>()\n",
       "</pre>\n"
      ],
      "text/plain": [
       "17:57:57.710 | \u001b[36mINFO\u001b[0m    | Task run 'converter_tipos-1' - Finished in state \u001b[32mCompleted\u001b[0m()\n"
      ]
     },
     "metadata": {},
     "output_type": "display_data"
    },
    {
     "data": {
      "text/html": [
       "<pre style=\"white-space:pre;overflow-x:auto;line-height:normal;font-family:Menlo,'DejaVu Sans Mono',consolas,'Courier New',monospace\">17:57:57.715 | <span style=\"color: #008080; text-decoration-color: #008080\">INFO</span>    | Flow run<span style=\"color: #800080; text-decoration-color: #800080\"> 'grumpy-skink'</span> - Persistindo dados da tabela receita\n",
       "</pre>\n"
      ],
      "text/plain": [
       "17:57:57.715 | \u001b[36mINFO\u001b[0m    | Flow run\u001b[35m 'grumpy-skink'\u001b[0m - Persistindo dados da tabela receita\n"
      ]
     },
     "metadata": {},
     "output_type": "display_data"
    },
    {
     "data": {
      "text/html": [
       "<pre style=\"white-space:pre;overflow-x:auto;line-height:normal;font-family:Menlo,'DejaVu Sans Mono',consolas,'Courier New',monospace\">17:57:58.026 | <span style=\"color: #008080; text-decoration-color: #008080\">INFO</span>    | Flow run<span style=\"color: #800080; text-decoration-color: #800080\"> 'grumpy-skink'</span> - Created task run 'analisar_link_csv-2' for task 'analisar_link_csv'\n",
       "</pre>\n"
      ],
      "text/plain": [
       "17:57:58.026 | \u001b[36mINFO\u001b[0m    | Flow run\u001b[35m 'grumpy-skink'\u001b[0m - Created task run 'analisar_link_csv-2' for task 'analisar_link_csv'\n"
      ]
     },
     "metadata": {},
     "output_type": "display_data"
    },
    {
     "data": {
      "text/html": [
       "<pre style=\"white-space:pre;overflow-x:auto;line-height:normal;font-family:Menlo,'DejaVu Sans Mono',consolas,'Courier New',monospace\">17:57:58.034 | <span style=\"color: #008080; text-decoration-color: #008080\">INFO</span>    | Flow run<span style=\"color: #800080; text-decoration-color: #800080\"> 'grumpy-skink'</span> - Executing 'analisar_link_csv-2' immediately...\n",
       "</pre>\n"
      ],
      "text/plain": [
       "17:57:58.034 | \u001b[36mINFO\u001b[0m    | Flow run\u001b[35m 'grumpy-skink'\u001b[0m - Executing 'analisar_link_csv-2' immediately...\n"
      ]
     },
     "metadata": {},
     "output_type": "display_data"
    },
    {
     "data": {
      "text/html": [
       "<pre style=\"white-space:pre;overflow-x:auto;line-height:normal;font-family:Menlo,'DejaVu Sans Mono',consolas,'Courier New',monospace\">17:57:58.749 | <span style=\"color: #008080; text-decoration-color: #008080\">INFO</span>    | Task run 'analisar_link_csv-2' - Tabela despesa baixada do link <span style=\"color: #0000ff; text-decoration-color: #0000ff\">https://api.bcb.gov.br/dados/serie/bcdata.sgs.22706/dados?formato=csv</span>\n",
       "</pre>\n"
      ],
      "text/plain": [
       "17:57:58.749 | \u001b[36mINFO\u001b[0m    | Task run 'analisar_link_csv-2' - Tabela despesa baixada do link \u001b[94mhttps://api.bcb.gov.br/dados/serie/bcdata.sgs.22706/dados?formato=csv\u001b[0m\n"
      ]
     },
     "metadata": {},
     "output_type": "display_data"
    },
    {
     "data": {
      "text/html": [
       "<pre style=\"white-space:pre;overflow-x:auto;line-height:normal;font-family:Menlo,'DejaVu Sans Mono',consolas,'Courier New',monospace\">17:57:58.848 | <span style=\"color: #008080; text-decoration-color: #008080\">INFO</span>    | Task run 'analisar_link_csv-2' - Finished in state <span style=\"color: #008000; text-decoration-color: #008000\">Completed</span>()\n",
       "</pre>\n"
      ],
      "text/plain": [
       "17:57:58.848 | \u001b[36mINFO\u001b[0m    | Task run 'analisar_link_csv-2' - Finished in state \u001b[32mCompleted\u001b[0m()\n"
      ]
     },
     "metadata": {},
     "output_type": "display_data"
    },
    {
     "data": {
      "text/html": [
       "<pre style=\"white-space:pre;overflow-x:auto;line-height:normal;font-family:Menlo,'DejaVu Sans Mono',consolas,'Courier New',monospace\">17:57:58.999 | <span style=\"color: #008080; text-decoration-color: #008080\">INFO</span>    | Flow run<span style=\"color: #800080; text-decoration-color: #800080\"> 'grumpy-skink'</span> - Created task run 'converter_tipos-2' for task 'converter_tipos'\n",
       "</pre>\n"
      ],
      "text/plain": [
       "17:57:58.999 | \u001b[36mINFO\u001b[0m    | Flow run\u001b[35m 'grumpy-skink'\u001b[0m - Created task run 'converter_tipos-2' for task 'converter_tipos'\n"
      ]
     },
     "metadata": {},
     "output_type": "display_data"
    },
    {
     "data": {
      "text/html": [
       "<pre style=\"white-space:pre;overflow-x:auto;line-height:normal;font-family:Menlo,'DejaVu Sans Mono',consolas,'Courier New',monospace\">17:57:59.002 | <span style=\"color: #008080; text-decoration-color: #008080\">INFO</span>    | Flow run<span style=\"color: #800080; text-decoration-color: #800080\"> 'grumpy-skink'</span> - Executing 'converter_tipos-2' immediately...\n",
       "</pre>\n"
      ],
      "text/plain": [
       "17:57:59.002 | \u001b[36mINFO\u001b[0m    | Flow run\u001b[35m 'grumpy-skink'\u001b[0m - Executing 'converter_tipos-2' immediately...\n"
      ]
     },
     "metadata": {},
     "output_type": "display_data"
    },
    {
     "data": {
      "text/html": [
       "<pre style=\"white-space:pre;overflow-x:auto;line-height:normal;font-family:Menlo,'DejaVu Sans Mono',consolas,'Courier New',monospace\">17:57:59.174 | <span style=\"color: #008080; text-decoration-color: #008080\">INFO</span>    | Task run 'converter_tipos-2' - Finished in state <span style=\"color: #008000; text-decoration-color: #008000\">Completed</span>()\n",
       "</pre>\n"
      ],
      "text/plain": [
       "17:57:59.174 | \u001b[36mINFO\u001b[0m    | Task run 'converter_tipos-2' - Finished in state \u001b[32mCompleted\u001b[0m()\n"
      ]
     },
     "metadata": {},
     "output_type": "display_data"
    },
    {
     "data": {
      "text/html": [
       "<pre style=\"white-space:pre;overflow-x:auto;line-height:normal;font-family:Menlo,'DejaVu Sans Mono',consolas,'Courier New',monospace\">17:57:59.179 | <span style=\"color: #008080; text-decoration-color: #008080\">INFO</span>    | Flow run<span style=\"color: #800080; text-decoration-color: #800080\"> 'grumpy-skink'</span> - Persistindo dados da tabela despesa\n",
       "</pre>\n"
      ],
      "text/plain": [
       "17:57:59.179 | \u001b[36mINFO\u001b[0m    | Flow run\u001b[35m 'grumpy-skink'\u001b[0m - Persistindo dados da tabela despesa\n"
      ]
     },
     "metadata": {},
     "output_type": "display_data"
    },
    {
     "data": {
      "text/html": [
       "<pre style=\"white-space:pre;overflow-x:auto;line-height:normal;font-family:Menlo,'DejaVu Sans Mono',consolas,'Courier New',monospace\">17:57:59.408 | <span style=\"color: #008080; text-decoration-color: #008080\">INFO</span>    | Flow run<span style=\"color: #800080; text-decoration-color: #800080\"> 'grumpy-skink'</span> - Finished in state <span style=\"color: #008000; text-decoration-color: #008000\">Completed</span>('All states completed.')\n",
       "</pre>\n"
      ],
      "text/plain": [
       "17:57:59.408 | \u001b[36mINFO\u001b[0m    | Flow run\u001b[35m 'grumpy-skink'\u001b[0m - Finished in state \u001b[32mCompleted\u001b[0m('All states completed.')\n"
      ]
     },
     "metadata": {},
     "output_type": "display_data"
    },
    {
     "data": {
      "text/html": [
       "<pre style=\"white-space:pre;overflow-x:auto;line-height:normal;font-family:Menlo,'DejaVu Sans Mono',consolas,'Courier New',monospace\">17:57:59.572 | <span style=\"color: #008080; text-decoration-color: #008080\">INFO</span>    | Flow run<span style=\"color: #800080; text-decoration-color: #800080\"> 'clay-coot'</span> - Created task run 'agregar_dados_por_ano-0' for task 'agregar_dados_por_ano'\n",
       "</pre>\n"
      ],
      "text/plain": [
       "17:57:59.572 | \u001b[36mINFO\u001b[0m    | Flow run\u001b[35m 'clay-coot'\u001b[0m - Created task run 'agregar_dados_por_ano-0' for task 'agregar_dados_por_ano'\n"
      ]
     },
     "metadata": {},
     "output_type": "display_data"
    },
    {
     "data": {
      "text/html": [
       "<pre style=\"white-space:pre;overflow-x:auto;line-height:normal;font-family:Menlo,'DejaVu Sans Mono',consolas,'Courier New',monospace\">17:57:59.576 | <span style=\"color: #008080; text-decoration-color: #008080\">INFO</span>    | Flow run<span style=\"color: #800080; text-decoration-color: #800080\"> 'clay-coot'</span> - Executing 'agregar_dados_por_ano-0' immediately...\n",
       "</pre>\n"
      ],
      "text/plain": [
       "17:57:59.576 | \u001b[36mINFO\u001b[0m    | Flow run\u001b[35m 'clay-coot'\u001b[0m - Executing 'agregar_dados_por_ano-0' immediately...\n"
      ]
     },
     "metadata": {},
     "output_type": "display_data"
    },
    {
     "data": {
      "text/html": [
       "<pre style=\"white-space:pre;overflow-x:auto;line-height:normal;font-family:Menlo,'DejaVu Sans Mono',consolas,'Courier New',monospace\">17:57:59.702 | <span style=\"color: #008080; text-decoration-color: #008080\">INFO</span>    | Task run 'agregar_dados_por_ano-0' - Agregando tabela saldo por ano\n",
       "</pre>\n"
      ],
      "text/plain": [
       "17:57:59.702 | \u001b[36mINFO\u001b[0m    | Task run 'agregar_dados_por_ano-0' - Agregando tabela saldo por ano\n"
      ]
     },
     "metadata": {},
     "output_type": "display_data"
    },
    {
     "data": {
      "text/html": [
       "<pre style=\"white-space:pre;overflow-x:auto;line-height:normal;font-family:Menlo,'DejaVu Sans Mono',consolas,'Courier New',monospace\">17:57:59.951 | <span style=\"color: #008080; text-decoration-color: #008080\">INFO</span>    | Task run 'agregar_dados_por_ano-0' - Finished in state <span style=\"color: #008000; text-decoration-color: #008000\">Completed</span>()\n",
       "</pre>\n"
      ],
      "text/plain": [
       "17:57:59.951 | \u001b[36mINFO\u001b[0m    | Task run 'agregar_dados_por_ano-0' - Finished in state \u001b[32mCompleted\u001b[0m()\n"
      ]
     },
     "metadata": {},
     "output_type": "display_data"
    },
    {
     "data": {
      "text/html": [
       "<pre style=\"white-space:pre;overflow-x:auto;line-height:normal;font-family:Menlo,'DejaVu Sans Mono',consolas,'Courier New',monospace\">17:58:00.022 | <span style=\"color: #008080; text-decoration-color: #008080\">INFO</span>    | Flow run<span style=\"color: #800080; text-decoration-color: #800080\"> 'clay-coot'</span> - Created task run 'agregar_dados_por_ano_mes-0' for task 'agregar_dados_por_ano_mes'\n",
       "</pre>\n"
      ],
      "text/plain": [
       "17:58:00.022 | \u001b[36mINFO\u001b[0m    | Flow run\u001b[35m 'clay-coot'\u001b[0m - Created task run 'agregar_dados_por_ano_mes-0' for task 'agregar_dados_por_ano_mes'\n"
      ]
     },
     "metadata": {},
     "output_type": "display_data"
    },
    {
     "data": {
      "text/html": [
       "<pre style=\"white-space:pre;overflow-x:auto;line-height:normal;font-family:Menlo,'DejaVu Sans Mono',consolas,'Courier New',monospace\">17:58:00.026 | <span style=\"color: #008080; text-decoration-color: #008080\">INFO</span>    | Flow run<span style=\"color: #800080; text-decoration-color: #800080\"> 'clay-coot'</span> - Executing 'agregar_dados_por_ano_mes-0' immediately...\n",
       "</pre>\n"
      ],
      "text/plain": [
       "17:58:00.026 | \u001b[36mINFO\u001b[0m    | Flow run\u001b[35m 'clay-coot'\u001b[0m - Executing 'agregar_dados_por_ano_mes-0' immediately...\n"
      ]
     },
     "metadata": {},
     "output_type": "display_data"
    },
    {
     "data": {
      "text/html": [
       "<pre style=\"white-space:pre;overflow-x:auto;line-height:normal;font-family:Menlo,'DejaVu Sans Mono',consolas,'Courier New',monospace\">17:58:00.157 | <span style=\"color: #008080; text-decoration-color: #008080\">INFO</span>    | Task run 'agregar_dados_por_ano_mes-0' - Agregando tabela saldo por ano\n",
       "</pre>\n"
      ],
      "text/plain": [
       "17:58:00.157 | \u001b[36mINFO\u001b[0m    | Task run 'agregar_dados_por_ano_mes-0' - Agregando tabela saldo por ano\n"
      ]
     },
     "metadata": {},
     "output_type": "display_data"
    },
    {
     "data": {
      "text/html": [
       "<pre style=\"white-space:pre;overflow-x:auto;line-height:normal;font-family:Menlo,'DejaVu Sans Mono',consolas,'Courier New',monospace\">17:58:00.382 | <span style=\"color: #008080; text-decoration-color: #008080\">INFO</span>    | Task run 'agregar_dados_por_ano_mes-0' - Finished in state <span style=\"color: #008000; text-decoration-color: #008000\">Completed</span>()\n",
       "</pre>\n"
      ],
      "text/plain": [
       "17:58:00.382 | \u001b[36mINFO\u001b[0m    | Task run 'agregar_dados_por_ano_mes-0' - Finished in state \u001b[32mCompleted\u001b[0m()\n"
      ]
     },
     "metadata": {},
     "output_type": "display_data"
    },
    {
     "data": {
      "text/html": [
       "<pre style=\"white-space:pre;overflow-x:auto;line-height:normal;font-family:Menlo,'DejaVu Sans Mono',consolas,'Courier New',monospace\">17:58:00.440 | <span style=\"color: #008080; text-decoration-color: #008080\">INFO</span>    | Flow run<span style=\"color: #800080; text-decoration-color: #800080\"> 'clay-coot'</span> - Created task run 'agregar_dados_por_ano-1' for task 'agregar_dados_por_ano'\n",
       "</pre>\n"
      ],
      "text/plain": [
       "17:58:00.440 | \u001b[36mINFO\u001b[0m    | Flow run\u001b[35m 'clay-coot'\u001b[0m - Created task run 'agregar_dados_por_ano-1' for task 'agregar_dados_por_ano'\n"
      ]
     },
     "metadata": {},
     "output_type": "display_data"
    },
    {
     "data": {
      "text/html": [
       "<pre style=\"white-space:pre;overflow-x:auto;line-height:normal;font-family:Menlo,'DejaVu Sans Mono',consolas,'Courier New',monospace\">17:58:00.444 | <span style=\"color: #008080; text-decoration-color: #008080\">INFO</span>    | Flow run<span style=\"color: #800080; text-decoration-color: #800080\"> 'clay-coot'</span> - Executing 'agregar_dados_por_ano-1' immediately...\n",
       "</pre>\n"
      ],
      "text/plain": [
       "17:58:00.444 | \u001b[36mINFO\u001b[0m    | Flow run\u001b[35m 'clay-coot'\u001b[0m - Executing 'agregar_dados_por_ano-1' immediately...\n"
      ]
     },
     "metadata": {},
     "output_type": "display_data"
    },
    {
     "data": {
      "text/html": [
       "<pre style=\"white-space:pre;overflow-x:auto;line-height:normal;font-family:Menlo,'DejaVu Sans Mono',consolas,'Courier New',monospace\">17:58:00.546 | <span style=\"color: #008080; text-decoration-color: #008080\">INFO</span>    | Task run 'agregar_dados_por_ano-1' - Agregando tabela receita por ano\n",
       "</pre>\n"
      ],
      "text/plain": [
       "17:58:00.546 | \u001b[36mINFO\u001b[0m    | Task run 'agregar_dados_por_ano-1' - Agregando tabela receita por ano\n"
      ]
     },
     "metadata": {},
     "output_type": "display_data"
    },
    {
     "data": {
      "text/html": [
       "<pre style=\"white-space:pre;overflow-x:auto;line-height:normal;font-family:Menlo,'DejaVu Sans Mono',consolas,'Courier New',monospace\">17:58:00.755 | <span style=\"color: #008080; text-decoration-color: #008080\">INFO</span>    | Task run 'agregar_dados_por_ano-1' - Finished in state <span style=\"color: #008000; text-decoration-color: #008000\">Completed</span>()\n",
       "</pre>\n"
      ],
      "text/plain": [
       "17:58:00.755 | \u001b[36mINFO\u001b[0m    | Task run 'agregar_dados_por_ano-1' - Finished in state \u001b[32mCompleted\u001b[0m()\n"
      ]
     },
     "metadata": {},
     "output_type": "display_data"
    },
    {
     "data": {
      "text/html": [
       "<pre style=\"white-space:pre;overflow-x:auto;line-height:normal;font-family:Menlo,'DejaVu Sans Mono',consolas,'Courier New',monospace\">17:58:00.856 | <span style=\"color: #008080; text-decoration-color: #008080\">INFO</span>    | Flow run<span style=\"color: #800080; text-decoration-color: #800080\"> 'clay-coot'</span> - Created task run 'agregar_dados_por_ano_mes-1' for task 'agregar_dados_por_ano_mes'\n",
       "</pre>\n"
      ],
      "text/plain": [
       "17:58:00.856 | \u001b[36mINFO\u001b[0m    | Flow run\u001b[35m 'clay-coot'\u001b[0m - Created task run 'agregar_dados_por_ano_mes-1' for task 'agregar_dados_por_ano_mes'\n"
      ]
     },
     "metadata": {},
     "output_type": "display_data"
    },
    {
     "data": {
      "text/html": [
       "<pre style=\"white-space:pre;overflow-x:auto;line-height:normal;font-family:Menlo,'DejaVu Sans Mono',consolas,'Courier New',monospace\">17:58:00.861 | <span style=\"color: #008080; text-decoration-color: #008080\">INFO</span>    | Flow run<span style=\"color: #800080; text-decoration-color: #800080\"> 'clay-coot'</span> - Executing 'agregar_dados_por_ano_mes-1' immediately...\n",
       "</pre>\n"
      ],
      "text/plain": [
       "17:58:00.861 | \u001b[36mINFO\u001b[0m    | Flow run\u001b[35m 'clay-coot'\u001b[0m - Executing 'agregar_dados_por_ano_mes-1' immediately...\n"
      ]
     },
     "metadata": {},
     "output_type": "display_data"
    },
    {
     "data": {
      "text/html": [
       "<pre style=\"white-space:pre;overflow-x:auto;line-height:normal;font-family:Menlo,'DejaVu Sans Mono',consolas,'Courier New',monospace\">17:58:00.985 | <span style=\"color: #008080; text-decoration-color: #008080\">INFO</span>    | Task run 'agregar_dados_por_ano_mes-1' - Agregando tabela receita por ano\n",
       "</pre>\n"
      ],
      "text/plain": [
       "17:58:00.985 | \u001b[36mINFO\u001b[0m    | Task run 'agregar_dados_por_ano_mes-1' - Agregando tabela receita por ano\n"
      ]
     },
     "metadata": {},
     "output_type": "display_data"
    },
    {
     "data": {
      "text/html": [
       "<pre style=\"white-space:pre;overflow-x:auto;line-height:normal;font-family:Menlo,'DejaVu Sans Mono',consolas,'Courier New',monospace\">17:58:01.154 | <span style=\"color: #008080; text-decoration-color: #008080\">INFO</span>    | Task run 'agregar_dados_por_ano_mes-1' - Finished in state <span style=\"color: #008000; text-decoration-color: #008000\">Completed</span>()\n",
       "</pre>\n"
      ],
      "text/plain": [
       "17:58:01.154 | \u001b[36mINFO\u001b[0m    | Task run 'agregar_dados_por_ano_mes-1' - Finished in state \u001b[32mCompleted\u001b[0m()\n"
      ]
     },
     "metadata": {},
     "output_type": "display_data"
    },
    {
     "data": {
      "text/html": [
       "<pre style=\"white-space:pre;overflow-x:auto;line-height:normal;font-family:Menlo,'DejaVu Sans Mono',consolas,'Courier New',monospace\">17:58:01.231 | <span style=\"color: #008080; text-decoration-color: #008080\">INFO</span>    | Flow run<span style=\"color: #800080; text-decoration-color: #800080\"> 'clay-coot'</span> - Created task run 'agregar_dados_por_ano-2' for task 'agregar_dados_por_ano'\n",
       "</pre>\n"
      ],
      "text/plain": [
       "17:58:01.231 | \u001b[36mINFO\u001b[0m    | Flow run\u001b[35m 'clay-coot'\u001b[0m - Created task run 'agregar_dados_por_ano-2' for task 'agregar_dados_por_ano'\n"
      ]
     },
     "metadata": {},
     "output_type": "display_data"
    },
    {
     "data": {
      "text/html": [
       "<pre style=\"white-space:pre;overflow-x:auto;line-height:normal;font-family:Menlo,'DejaVu Sans Mono',consolas,'Courier New',monospace\">17:58:01.234 | <span style=\"color: #008080; text-decoration-color: #008080\">INFO</span>    | Flow run<span style=\"color: #800080; text-decoration-color: #800080\"> 'clay-coot'</span> - Executing 'agregar_dados_por_ano-2' immediately...\n",
       "</pre>\n"
      ],
      "text/plain": [
       "17:58:01.234 | \u001b[36mINFO\u001b[0m    | Flow run\u001b[35m 'clay-coot'\u001b[0m - Executing 'agregar_dados_por_ano-2' immediately...\n"
      ]
     },
     "metadata": {},
     "output_type": "display_data"
    },
    {
     "data": {
      "text/html": [
       "<pre style=\"white-space:pre;overflow-x:auto;line-height:normal;font-family:Menlo,'DejaVu Sans Mono',consolas,'Courier New',monospace\">17:58:01.398 | <span style=\"color: #008080; text-decoration-color: #008080\">INFO</span>    | Task run 'agregar_dados_por_ano-2' - Agregando tabela despesa por ano\n",
       "</pre>\n"
      ],
      "text/plain": [
       "17:58:01.398 | \u001b[36mINFO\u001b[0m    | Task run 'agregar_dados_por_ano-2' - Agregando tabela despesa por ano\n"
      ]
     },
     "metadata": {},
     "output_type": "display_data"
    },
    {
     "data": {
      "text/html": [
       "<pre style=\"white-space:pre;overflow-x:auto;line-height:normal;font-family:Menlo,'DejaVu Sans Mono',consolas,'Courier New',monospace\">17:58:01.632 | <span style=\"color: #008080; text-decoration-color: #008080\">INFO</span>    | Task run 'agregar_dados_por_ano-2' - Finished in state <span style=\"color: #008000; text-decoration-color: #008000\">Completed</span>()\n",
       "</pre>\n"
      ],
      "text/plain": [
       "17:58:01.632 | \u001b[36mINFO\u001b[0m    | Task run 'agregar_dados_por_ano-2' - Finished in state \u001b[32mCompleted\u001b[0m()\n"
      ]
     },
     "metadata": {},
     "output_type": "display_data"
    },
    {
     "data": {
      "text/html": [
       "<pre style=\"white-space:pre;overflow-x:auto;line-height:normal;font-family:Menlo,'DejaVu Sans Mono',consolas,'Courier New',monospace\">17:58:01.709 | <span style=\"color: #008080; text-decoration-color: #008080\">INFO</span>    | Flow run<span style=\"color: #800080; text-decoration-color: #800080\"> 'clay-coot'</span> - Created task run 'agregar_dados_por_ano_mes-2' for task 'agregar_dados_por_ano_mes'\n",
       "</pre>\n"
      ],
      "text/plain": [
       "17:58:01.709 | \u001b[36mINFO\u001b[0m    | Flow run\u001b[35m 'clay-coot'\u001b[0m - Created task run 'agregar_dados_por_ano_mes-2' for task 'agregar_dados_por_ano_mes'\n"
      ]
     },
     "metadata": {},
     "output_type": "display_data"
    },
    {
     "data": {
      "text/html": [
       "<pre style=\"white-space:pre;overflow-x:auto;line-height:normal;font-family:Menlo,'DejaVu Sans Mono',consolas,'Courier New',monospace\">17:58:01.713 | <span style=\"color: #008080; text-decoration-color: #008080\">INFO</span>    | Flow run<span style=\"color: #800080; text-decoration-color: #800080\"> 'clay-coot'</span> - Executing 'agregar_dados_por_ano_mes-2' immediately...\n",
       "</pre>\n"
      ],
      "text/plain": [
       "17:58:01.713 | \u001b[36mINFO\u001b[0m    | Flow run\u001b[35m 'clay-coot'\u001b[0m - Executing 'agregar_dados_por_ano_mes-2' immediately...\n"
      ]
     },
     "metadata": {},
     "output_type": "display_data"
    },
    {
     "data": {
      "text/html": [
       "<pre style=\"white-space:pre;overflow-x:auto;line-height:normal;font-family:Menlo,'DejaVu Sans Mono',consolas,'Courier New',monospace\">17:58:01.816 | <span style=\"color: #008080; text-decoration-color: #008080\">INFO</span>    | Task run 'agregar_dados_por_ano_mes-2' - Agregando tabela despesa por ano\n",
       "</pre>\n"
      ],
      "text/plain": [
       "17:58:01.816 | \u001b[36mINFO\u001b[0m    | Task run 'agregar_dados_por_ano_mes-2' - Agregando tabela despesa por ano\n"
      ]
     },
     "metadata": {},
     "output_type": "display_data"
    },
    {
     "data": {
      "text/html": [
       "<pre style=\"white-space:pre;overflow-x:auto;line-height:normal;font-family:Menlo,'DejaVu Sans Mono',consolas,'Courier New',monospace\">17:58:01.987 | <span style=\"color: #008080; text-decoration-color: #008080\">INFO</span>    | Task run 'agregar_dados_por_ano_mes-2' - Finished in state <span style=\"color: #008000; text-decoration-color: #008000\">Completed</span>()\n",
       "</pre>\n"
      ],
      "text/plain": [
       "17:58:01.987 | \u001b[36mINFO\u001b[0m    | Task run 'agregar_dados_por_ano_mes-2' - Finished in state \u001b[32mCompleted\u001b[0m()\n"
      ]
     },
     "metadata": {},
     "output_type": "display_data"
    },
    {
     "data": {
      "text/html": [
       "<pre style=\"white-space:pre;overflow-x:auto;line-height:normal;font-family:Menlo,'DejaVu Sans Mono',consolas,'Courier New',monospace\">17:58:02.174 | <span style=\"color: #008080; text-decoration-color: #008080\">INFO</span>    | Flow run<span style=\"color: #800080; text-decoration-color: #800080\"> 'clay-coot'</span> - Finished in state <span style=\"color: #008000; text-decoration-color: #008000\">Completed</span>('All states completed.')\n",
       "</pre>\n"
      ],
      "text/plain": [
       "17:58:02.174 | \u001b[36mINFO\u001b[0m    | Flow run\u001b[35m 'clay-coot'\u001b[0m - Finished in state \u001b[32mCompleted\u001b[0m('All states completed.')\n"
      ]
     },
     "metadata": {},
     "output_type": "display_data"
    },
    {
     "data": {
      "text/plain": [
       "[Completed(message=None, type=COMPLETED, result=UnpersistedResult(type='unpersisted', artifact_type='result', artifact_description='Unpersisted result of type `WebDriver`')),\n",
       " Completed(message=None, type=COMPLETED, result=UnpersistedResult(type='unpersisted', artifact_type='result', artifact_description='Unpersisted result of type `DataFrame`')),\n",
       " Completed(message=None, type=COMPLETED, result=UnpersistedResult(type='unpersisted', artifact_type='result', artifact_description='Unpersisted result of type `DataFrame`')),\n",
       " Completed(message=None, type=COMPLETED, result=UnpersistedResult(type='unpersisted', artifact_type='result', artifact_description='Unpersisted result of type `DataFrame`')),\n",
       " Completed(message=None, type=COMPLETED, result=UnpersistedResult(type='unpersisted', artifact_type='result', artifact_description='Unpersisted result of type `DataFrame`')),\n",
       " Completed(message=None, type=COMPLETED, result=UnpersistedResult(type='unpersisted', artifact_type='result', artifact_description='Unpersisted result of type `DataFrame`')),\n",
       " Completed(message=None, type=COMPLETED, result=UnpersistedResult(type='unpersisted', artifact_type='result', artifact_description='Unpersisted result of type `DataFrame`')),\n",
       " Completed(message=None, type=COMPLETED, result=UnpersistedResult(type='unpersisted', artifact_type='result', artifact_description='Unpersisted result of type `str`')),\n",
       " Completed(message=None, type=COMPLETED, result=UnpersistedResult(type='unpersisted', artifact_type='result', artifact_description='Unpersisted result of type `str`')),\n",
       " Completed(message=None, type=COMPLETED, result=UnpersistedResult(type='unpersisted', artifact_type='result', artifact_description='Unpersisted result of type `str`')),\n",
       " Completed(message='All states completed.', type=COMPLETED, result=UnpersistedResult(type='unpersisted', artifact_type='result', artifact_description='Unpersisted result of type `list`'))]"
      ]
     },
     "execution_count": 1,
     "metadata": {},
     "output_type": "execute_result"
    }
   ],
   "source": [
    "import main \n",
    "main.main()"
   ]
  },
  {
   "cell_type": "markdown",
   "id": "5e4621cc",
   "metadata": {},
   "source": [
    "- 1 acha o link\n",
    "- abre o link da pagina que achou\n",
    "- abre a pagina para o csv\n",
    "- na pagina do csv, pega o url e passa pro pandas"
   ]
  },
  {
   "cell_type": "code",
   "execution_count": 2,
   "id": "b75ce237-b3e8-47f9-a70f-897ac94bf3e7",
   "metadata": {},
   "outputs": [
    {
     "data": {
      "text/plain": [
       "{'saldo': 'https://api.bcb.gov.br/dados/serie/bcdata.sgs.22704/dados?formato=csv',\n",
       " 'receita': 'https://api.bcb.gov.br/dados/serie/bcdata.sgs.22705/dados?formato=csv',\n",
       " 'despesa': 'https://api.bcb.gov.br/dados/serie/bcdata.sgs.22706/dados?formato=csv'}"
      ]
     },
     "execution_count": 2,
     "metadata": {},
     "output_type": "execute_result"
    }
   ],
   "source": [
    "import re\n",
    "from selenium import webdriver\n",
    "from selenium.webdriver.common.by import By\n",
    "import pandas as pd\n",
    "import os\n",
    "from datetime import datetime\n",
    "\n",
    "def abrir_pagina_balanca_comercial():\n",
    "    navegador = webdriver.Edge()\n",
    "    URL = 'https://dadosabertos.bcb.gov.br/pages/temas#grp1762'\n",
    "    navegador.get(URL)\n",
    "    return navegador\n",
    "\n",
    "def buscar_link_balanca_comercial(navegador, palavra_chave):\n",
    "    _str = 'Balança comercial e Serviços - '\n",
    "    elemento_saldo = navegador.find_element(By.XPATH, f'//*[text()[contains(.,\"{_str + palavra_chave}\")]]')\n",
    "    link = elemento_saldo.get_attribute('href')\n",
    "    return link\n",
    "\n",
    "def retornar_pagina_para_csv(navegador):\n",
    "    _str = 'csv_serie-sgs'\n",
    "    elemento_csv = navegador.find_element(By.XPATH, f'//*[text()[contains(.,\"{_str}\")]]')\n",
    "    link = elemento_csv.get_attribute('href')\n",
    "    return link \n",
    "    \n",
    "def buscar_link_para_csv(navegador):\n",
    "    _str = 'URL:'\n",
    "    elemento_url = navegador.find_element(By.XPATH, f'//*[text()[contains(.,\"{_str}\")]]')\n",
    "    link = elemento_url.find_element(By.TAG_NAME, f'a')\n",
    "    link = link.get_attribute('href')\n",
    "    return link\n",
    "\n",
    "def buscar_url_csv(navegador, palavra_chave):\n",
    "    novo_link = buscar_link_balanca_comercial(navegador, palavra_chave)\n",
    "    navegador.get(novo_link)\n",
    "    pagina_csv = retornar_pagina_para_csv(navegador)\n",
    "    navegador.get(pagina_csv)\n",
    "    url = buscar_link_para_csv(navegador)\n",
    "    return url \n",
    "    \n",
    "def analisar_link_csv(links, chave) -> pd.DataFrame:\n",
    "    '''Recebe um dicionario de links de dados do Banco Central e retorna um DataFrame com a coluna valor, renomeada com a respectiva chave informada'''\n",
    "    saldo = pd.read_csv(links[chave], sep=';').rename(columns={'valor':chave})\n",
    "    return saldo\n",
    "\n",
    "url_bcb = 'https://api.bcb.gov.br/dados/serie/bcdata.sgs.22704/dados?formato=csv'\n",
    "URL = 'https://dadosabertos.bcb.gov.br/pages/temas#grp1762'\n",
    "\n",
    "\n",
    "navegador = abrir_pagina_balanca_comercial()\n",
    "palavras_chave = ['saldo', 'receita', 'despesa']\n",
    "links = {}\n",
    "\n",
    "for index, p in enumerate(palavras_chave):\n",
    "    if navegador.current_url != URL:\n",
    "        navegador.get(URL)\n",
    "    links[p] = buscar_url_csv(navegador, p)\n",
    "\n",
    "links = {'saldo': 'https://api.bcb.gov.br/dados/serie/bcdata.sgs.22704/dados?formato=csv',\n",
    " 'receita': 'https://api.bcb.gov.br/dados/serie/bcdata.sgs.22705/dados?formato=csv',\n",
    " 'despesa': 'https://api.bcb.gov.br/dados/serie/bcdata.sgs.22706/dados?formato=csv'}\n",
    "links\n",
    "    "
   ]
  },
  {
   "cell_type": "code",
   "execution_count": 3,
   "id": "4a878c5e",
   "metadata": {},
   "outputs": [],
   "source": [
    "\n",
    "# Conectar ao banco de dados (se não existir, ele será criado)\n",
    "\n",
    "\n",
    "df = analisar_link_csv(links, 'saldo')\n",
    "\n",
    "\n"
   ]
  },
  {
   "cell_type": "code",
   "execution_count": 4,
   "id": "b4f70131",
   "metadata": {},
   "outputs": [],
   "source": [
    "import pandas as pd\n",
    "import sqlite3\n",
    "conexao = sqlite3.connect('sqlite/exemplo.db')\n",
    "\n",
    "\n",
    "def year_month(date:datetime) -> int:\n",
    "  return date.year *100 + date.month\n",
    "\n",
    "def converter_tipos(df, chave):\n",
    "  '''Recebe um df de dados do BCB e retorna com as colunas data e outro valor nos formatos data e float''' \n",
    "  df['data'] = pd.to_datetime(df['data'])\n",
    "  df[chave] = df[chave].astype(str).str.replace(',', '.').astype(float)\n",
    "  return df\n",
    "\n",
    "# #print(df[['saldo', 'ano_mes']])\n",
    "# df['ano_mes'] = df['data'].apply(year_month)\n",
    "# df_agrupado = df.groupby('ano')['saldo'].sum().reset_index()\n",
    "# df_agrupado.to_sql('saldo_agrupado_por_ano', con=conexao, if_exists='replace', index=False)\n",
    "# df_nova_tabela = pd.read_sql('SELECT * FROM saldo_agrupado_por_ano', conexao)\n",
    "# print(df_nova_tabela)\n",
    "\n",
    "def persistir_dados(links):\n",
    "  '''Baixa o dicionario de links e salva no banco com o nome da chave como tabela'''\n",
    "  for link in links:\n",
    "    df = analisar_link_csv(links, link)\n",
    "    df = converter_tipos(df, link)\n",
    "    df.to_sql(link, conexao, index=False, if_exists='replace', dtype={'data':'datetime', link:'float'})\n",
    "\n",
    "def agregar_dados_por_ano(tabela, conexao):\n",
    "    df = pd.read_sql(f'select * from {tabela}', conexao)\n",
    "    df['ano'] = pd.to_datetime(df['data']).dt.year\n",
    "    return df.groupby('ano', as_index=False)[tabela].sum()\n",
    "\n",
    "def agregar_dados_por_ano_mes(tabela, conexao):\n",
    "    col = 'ano_mes'\n",
    "    df = pd.read_sql(f'select * from {tabela}', conexao)\n",
    "    df[col] = pd.to_datetime(df['data']).apply(year_month)\n",
    "    return df.groupby(col, as_index=False)[tabela].sum()\n",
    "\n",
    "persistir_dados(links)\n",
    "  "
   ]
  },
  {
   "cell_type": "code",
   "execution_count": 5,
   "id": "6012751d",
   "metadata": {},
   "outputs": [
    {
     "data": {
      "text/plain": [
       "{'saldo': 'https://api.bcb.gov.br/dados/serie/bcdata.sgs.22704/dados?formato=csv',\n",
       " 'receita': 'https://api.bcb.gov.br/dados/serie/bcdata.sgs.22705/dados?formato=csv',\n",
       " 'despesa': 'https://api.bcb.gov.br/dados/serie/bcdata.sgs.22706/dados?formato=csv'}"
      ]
     },
     "execution_count": 5,
     "metadata": {},
     "output_type": "execute_result"
    }
   ],
   "source": [
    "links\n"
   ]
  },
  {
   "cell_type": "code",
   "execution_count": 6,
   "id": "918719a4",
   "metadata": {},
   "outputs": [
    {
     "data": {
      "text/plain": [
       "{'saldo': 'https://api.bcb.gov.br/dados/serie/bcdata.sgs.22704/dados?formato=csv',\n",
       " 'receita': 'https://api.bcb.gov.br/dados/serie/bcdata.sgs.22705/dados?formato=csv',\n",
       " 'despesa': 'https://api.bcb.gov.br/dados/serie/bcdata.sgs.22706/dados?formato=csv'}"
      ]
     },
     "execution_count": 6,
     "metadata": {},
     "output_type": "execute_result"
    }
   ],
   "source": [
    "import json\n",
    "with open('links.json') as f:\n",
    "    links = json.load(f)\n",
    "links\n"
   ]
  },
  {
   "cell_type": "code",
   "execution_count": 102,
   "id": "00db4604-372f-41f2-a546-e58989aafeed",
   "metadata": {},
   "outputs": [
    {
     "data": {
      "text/plain": [
       "'C:\\\\Users\\\\Erick\\\\Desktop\\\\python\\\\bcdata.sgs.22717'"
      ]
     },
     "execution_count": 102,
     "metadata": {},
     "output_type": "execute_result"
    }
   ],
   "source": [
    "#os.path.join('C:\\\\Users\\\\Erick\\\\Desktop\\\\python\\\\bcdata.sgs.22717')\n"
   ]
  },
  {
   "cell_type": "code",
   "execution_count": 115,
   "id": "df941c40-d5e1-4d3a-8feb-5f288dc98fe2",
   "metadata": {},
   "outputs": [],
   "source": [
    "#tabela_bancoExp = pd.read_csv('bcdata.sgs.22717.csv', sep=';')\n",
    "#tabela_bancoExp.rename(columns={'valor_x': 'Exportação', 'valor_y': 'Importação'}, inplace=True)"
   ]
  },
  {
   "cell_type": "code",
   "execution_count": 112,
   "id": "cd0cc164-de87-4d4d-aff8-7f391051d275",
   "metadata": {},
   "outputs": [],
   "source": [
    "#tabela_Total = pd.merge(dftabela_bancoExp, dftabela_bancoImp, on=\"data\")"
   ]
  },
  {
   "cell_type": "code",
   "execution_count": 116,
   "id": "a4da7b16-cb8f-4428-9cf6-90a7ce8a39e0",
   "metadata": {},
   "outputs": [],
   "source": [
    "#dftabela_Total = pd.DataFrame(tabela_Total)\n",
    "#dftabela_Total.rename(columns={'valor_x': 'Exportação', 'valor_y': 'Importação'}, inplace=True)"
   ]
  },
  {
   "cell_type": "code",
   "execution_count": 117,
   "id": "9fa695b9-186f-4bc3-b04f-2a7ea595d874",
   "metadata": {},
   "outputs": [
    {
     "data": {
      "text/html": [
       "<div>\n",
       "<style scoped>\n",
       "    .dataframe tbody tr th:only-of-type {\n",
       "        vertical-align: middle;\n",
       "    }\n",
       "\n",
       "    .dataframe tbody tr th {\n",
       "        vertical-align: top;\n",
       "    }\n",
       "\n",
       "    .dataframe thead th {\n",
       "        text-align: right;\n",
       "    }\n",
       "</style>\n",
       "<table border=\"1\" class=\"dataframe\">\n",
       "  <thead>\n",
       "    <tr style=\"text-align: right;\">\n",
       "      <th></th>\n",
       "      <th>data</th>\n",
       "      <th>valor_x</th>\n",
       "      <th>valor_y</th>\n",
       "    </tr>\n",
       "  </thead>\n",
       "  <tbody>\n",
       "    <tr>\n",
       "      <th>0</th>\n",
       "      <td>01/01/1995</td>\n",
       "      <td>0,0</td>\n",
       "      <td>3368,9</td>\n",
       "    </tr>\n",
       "    <tr>\n",
       "      <th>1</th>\n",
       "      <td>01/02/1995</td>\n",
       "      <td>0,0</td>\n",
       "      <td>4097,5</td>\n",
       "    </tr>\n",
       "    <tr>\n",
       "      <th>2</th>\n",
       "      <td>01/03/1995</td>\n",
       "      <td>0,0</td>\n",
       "      <td>4806,3</td>\n",
       "    </tr>\n",
       "    <tr>\n",
       "      <th>3</th>\n",
       "      <td>01/04/1995</td>\n",
       "      <td>0,0</td>\n",
       "      <td>3948,1</td>\n",
       "    </tr>\n",
       "    <tr>\n",
       "      <th>4</th>\n",
       "      <td>01/05/1995</td>\n",
       "      <td>0,0</td>\n",
       "      <td>4981,8</td>\n",
       "    </tr>\n",
       "    <tr>\n",
       "      <th>...</th>\n",
       "      <td>...</td>\n",
       "      <td>...</td>\n",
       "      <td>...</td>\n",
       "    </tr>\n",
       "    <tr>\n",
       "      <th>344</th>\n",
       "      <td>01/09/2023</td>\n",
       "      <td>264,5</td>\n",
       "      <td>21467,2</td>\n",
       "    </tr>\n",
       "    <tr>\n",
       "      <th>345</th>\n",
       "      <td>01/10/2023</td>\n",
       "      <td>254,2</td>\n",
       "      <td>22269,1</td>\n",
       "    </tr>\n",
       "    <tr>\n",
       "      <th>346</th>\n",
       "      <td>01/11/2023</td>\n",
       "      <td>227,3</td>\n",
       "      <td>21483,9</td>\n",
       "    </tr>\n",
       "    <tr>\n",
       "      <th>347</th>\n",
       "      <td>01/12/2023</td>\n",
       "      <td>323,4</td>\n",
       "      <td>21773,0</td>\n",
       "    </tr>\n",
       "    <tr>\n",
       "      <th>348</th>\n",
       "      <td>01/01/2024</td>\n",
       "      <td>290,8</td>\n",
       "      <td>22978,1</td>\n",
       "    </tr>\n",
       "  </tbody>\n",
       "</table>\n",
       "<p>349 rows × 3 columns</p>\n",
       "</div>"
      ],
      "text/plain": [
       "           data valor_x  valor_y\n",
       "0    01/01/1995     0,0   3368,9\n",
       "1    01/02/1995     0,0   4097,5\n",
       "2    01/03/1995     0,0   4806,3\n",
       "3    01/04/1995     0,0   3948,1\n",
       "4    01/05/1995     0,0   4981,8\n",
       "..          ...     ...      ...\n",
       "344  01/09/2023   264,5  21467,2\n",
       "345  01/10/2023   254,2  22269,1\n",
       "346  01/11/2023   227,3  21483,9\n",
       "347  01/12/2023   323,4  21773,0\n",
       "348  01/01/2024   290,8  22978,1\n",
       "\n",
       "[349 rows x 3 columns]"
      ]
     },
     "execution_count": 117,
     "metadata": {},
     "output_type": "execute_result"
    }
   ],
   "source": [
    "#tabela_Total"
   ]
  }
 ],
 "metadata": {
  "kernelspec": {
   "display_name": "Python 3 (ipykernel)",
   "language": "python",
   "name": "python3"
  },
  "language_info": {
   "codemirror_mode": {
    "name": "ipython",
    "version": 3
   },
   "file_extension": ".py",
   "mimetype": "text/x-python",
   "name": "python",
   "nbconvert_exporter": "python",
   "pygments_lexer": "ipython3",
   "version": "3.11.8"
  }
 },
 "nbformat": 4,
 "nbformat_minor": 5
}
